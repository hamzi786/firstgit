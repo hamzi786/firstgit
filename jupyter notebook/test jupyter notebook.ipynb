{
 "cells": [
  {
   "cell_type": "markdown",
   "id": "f3d061b4",
   "metadata": {},
   "source": [
    "# python ka chilla\n",
    "## how to use jupyter notebook\n",
    "### basics of python\n",
    "**1- my first program**"
   ]
  },
  {
   "cell_type": "code",
   "execution_count": 10,
   "id": "5b46148d",
   "metadata": {},
   "outputs": [
    {
     "name": "stdout",
     "output_type": "stream",
     "text": [
      "8\n",
      "hello world\n",
      "sum of numbers is=\n"
     ]
    }
   ],
   "source": [
    "print(3+5)\n",
    "print(\"hello world\")\n",
    "print(\"sum of numbers is=\")"
   ]
  },
  {
   "cell_type": "markdown",
   "id": "1f48130d",
   "metadata": {},
   "source": [
    "**02- operators**"
   ]
  },
  {
   "cell_type": "code",
   "execution_count": 11,
   "id": "c0134c60",
   "metadata": {},
   "outputs": [
    {
     "name": "stdout",
     "output_type": "stream",
     "text": [
      "5\n",
      "1\n",
      "3\n",
      "125\n"
     ]
    }
   ],
   "source": [
    "print(3+2)\n",
    "print(3-2)\n",
    "print(3//1)\n",
    "print(5**3)"
   ]
  },
  {
   "cell_type": "markdown",
   "id": "8ec5380c",
   "metadata": {},
   "source": [
    "*pemdas\n",
    "prenthessis exponents multiply division addition substract*"
   ]
  },
  {
   "cell_type": "markdown",
   "id": "97fa36d9",
   "metadata": {},
   "source": [
    "**03- strings**"
   ]
  },
  {
   "cell_type": "code",
   "execution_count": 12,
   "id": "a416d190",
   "metadata": {},
   "outputs": [
    {
     "name": "stdout",
     "output_type": "stream",
     "text": [
      "2\n",
      "<class 'int'>\n"
     ]
    }
   ],
   "source": [
    "# x= 5\n",
    "# print(x)\n",
    "# type(x)\n",
    "# print(type(x))\n",
    "fruit_basket=8\n",
    "fruit_basket=2\n",
    "print(fruit_basket)\n",
    "print(type(fruit_basket))"
   ]
  },
  {
   "cell_type": "code",
   "execution_count": null,
   "id": "78c65d24",
   "metadata": {},
   "outputs": [],
   "source": []
  }
 ],
 "metadata": {
  "kernelspec": {
   "display_name": "Python 3 (ipykernel)",
   "language": "python",
   "name": "python3"
  },
  "language_info": {
   "codemirror_mode": {
    "name": "ipython",
    "version": 3
   },
   "file_extension": ".py",
   "mimetype": "text/x-python",
   "name": "python",
   "nbconvert_exporter": "python",
   "pygments_lexer": "ipython3",
   "version": "3.9.7"
  }
 },
 "nbformat": 4,
 "nbformat_minor": 5
}
