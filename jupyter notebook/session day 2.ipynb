{
 "cells": [
  {
   "cell_type": "code",
   "execution_count": 1,
   "id": "1e1588ae",
   "metadata": {},
   "outputs": [],
   "source": [
    "# body mass index(BMI)\n",
    "# input weight\n",
    "# height\n",
    "# BMI (ask your self your height)\n",
    "# weight\n",
    "# calculate BMI\n",
    "# print BMI(my name is ...., and my bmi is....)"
   ]
  },
  {
   "cell_type": "code",
   "execution_count": 2,
   "id": "2e474461",
   "metadata": {},
   "outputs": [
    {
     "name": "stdout",
     "output_type": "stream",
     "text": [
      "whats your height?1.74\n"
     ]
    }
   ],
   "source": [
    "height=input(\"whats your height?\")"
   ]
  },
  {
   "cell_type": "code",
   "execution_count": 3,
   "id": "9818ecb3",
   "metadata": {},
   "outputs": [],
   "source": [
    "height = float(height)"
   ]
  },
  {
   "cell_type": "code",
   "execution_count": 4,
   "id": "28f55105",
   "metadata": {},
   "outputs": [
    {
     "name": "stdout",
     "output_type": "stream",
     "text": [
      "whats your weight?68\n"
     ]
    }
   ],
   "source": [
    "weight=input(\"whats your weight?\")"
   ]
  },
  {
   "cell_type": "code",
   "execution_count": 5,
   "id": "8140d84e",
   "metadata": {},
   "outputs": [],
   "source": [
    "weight = float(weight)"
   ]
  },
  {
   "cell_type": "code",
   "execution_count": 6,
   "id": "e8fe1c6d",
   "metadata": {},
   "outputs": [
    {
     "name": "stdout",
     "output_type": "stream",
     "text": [
      "what is your name?hamza khan\n"
     ]
    }
   ],
   "source": [
    "name=input(\"what is your name?\")"
   ]
  },
  {
   "cell_type": "code",
   "execution_count": 7,
   "id": "b5b2cd52",
   "metadata": {},
   "outputs": [
    {
     "data": {
      "text/plain": [
       "22.460034350640772"
      ]
     },
     "execution_count": 7,
     "metadata": {},
     "output_type": "execute_result"
    }
   ],
   "source": [
    "BMI = weight/height**2\n",
    "BMI"
   ]
  },
  {
   "cell_type": "code",
   "execution_count": 9,
   "id": "58cf11ac",
   "metadata": {
    "scrolled": true
   },
   "outputs": [
    {
     "name": "stdout",
     "output_type": "stream",
     "text": [
      "My name is hamza khan and my BMI is 22.460034350640772\n"
     ]
    }
   ],
   "source": [
    "print(\"My name is\", name, \"and my BMI is\", BMI)"
   ]
  },
  {
   "cell_type": "code",
   "execution_count": null,
   "id": "cef5cbb1",
   "metadata": {},
   "outputs": [],
   "source": []
  }
 ],
 "metadata": {
  "kernelspec": {
   "display_name": "Python 3 (ipykernel)",
   "language": "python",
   "name": "python3"
  },
  "language_info": {
   "codemirror_mode": {
    "name": "ipython",
    "version": 3
   },
   "file_extension": ".py",
   "mimetype": "text/x-python",
   "name": "python",
   "nbconvert_exporter": "python",
   "pygments_lexer": "ipython3",
   "version": "3.9.7"
  }
 },
 "nbformat": 4,
 "nbformat_minor": 5
}
